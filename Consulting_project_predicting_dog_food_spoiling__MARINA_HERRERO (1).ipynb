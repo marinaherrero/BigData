{
  "nbformat": 4,
  "nbformat_minor": 0,
  "metadata": {
    "colab": {
      "name": "Consulting project: predicting dog food spoiling_ MARINA HERRERO.ipynb",
      "provenance": []
    },
    "kernelspec": {
      "name": "python3",
      "display_name": "Python 3"
    },
    "language_info": {
      "name": "python"
    }
  },
  "cells": [
    {
      "cell_type": "code",
      "metadata": {
        "id": "qyWjqitA2ie8"
      },
      "source": [
        "!apt-get install openjdk-8-jdk-headless -qq > /dev/null\n",
        "!wget -q https://mirrors.sonic.net/apache/spark/spark-3.1.2/spark-3.1.2-bin-hadoop3.2.tgz\n",
        "!tar xzf spark-3.1.2-bin-hadoop3.2.tgz\n",
        "!pip install -q findspark\n",
        "\n",
        "\n",
        "import os\n",
        "os.environ[\"JAVA_HOME\"] = \"/usr/lib/jvm/java-8-openjdk-amd64\"\n",
        "os.environ[\"SPARK_HOME\"] = \"/content/spark-3.1.2-bin-hadoop3.2\"\n",
        "\n",
        "\n",
        "import findspark\n",
        "findspark.init()\n",
        "from pyspark.sql import SparkSession\n",
        "spark = SparkSession.builder.master(\"local[*]\").getOrCreate()"
      ],
      "execution_count": 50,
      "outputs": []
    },
    {
      "cell_type": "code",
      "metadata": {
        "id": "FdCdt1XO3D3b"
      },
      "source": [
        "df = spark.read.format('csv').options(inferSchema=True, header=True).load('/content/drive/MyDrive/dog_food.csv')"
      ],
      "execution_count": 41,
      "outputs": []
    },
    {
      "cell_type": "code",
      "metadata": {
        "colab": {
          "base_uri": "https://localhost:8080/"
        },
        "id": "2ybpJQux21EJ",
        "outputId": "55fa5eb6-d92a-48c7-cc2a-7b088d40a315"
      },
      "source": [
        "df.printSchema() #general look"
      ],
      "execution_count": 42,
      "outputs": [
        {
          "output_type": "stream",
          "name": "stdout",
          "text": [
            "root\n",
            " |-- A: integer (nullable = true)\n",
            " |-- B: integer (nullable = true)\n",
            " |-- C: double (nullable = true)\n",
            " |-- D: integer (nullable = true)\n",
            " |-- Spoiled: double (nullable = true)\n",
            "\n"
          ]
        }
      ]
    },
    {
      "cell_type": "code",
      "metadata": {
        "colab": {
          "base_uri": "https://localhost:8080/"
        },
        "id": "yr6krMiYXBcc",
        "outputId": "089a51bc-8985-49e4-bd58-23618a52102d"
      },
      "source": [
        "df.describe().show() #no NAs"
      ],
      "execution_count": 43,
      "outputs": [
        {
          "output_type": "stream",
          "name": "stdout",
          "text": [
            "+-------+------------------+------------------+------------------+------------------+-------------------+\n",
            "|summary|                 A|                 B|                 C|                 D|            Spoiled|\n",
            "+-------+------------------+------------------+------------------+------------------+-------------------+\n",
            "|  count|               490|               490|               490|               490|                490|\n",
            "|   mean|  5.53469387755102| 5.504081632653061| 9.126530612244897| 5.579591836734694| 0.2857142857142857|\n",
            "| stddev|2.9515204234399057|2.8537966089662063|2.0555451971054275|2.8548369309982857|0.45221563164613465|\n",
            "|    min|                 1|                 1|               5.0|                 1|                0.0|\n",
            "|    max|                10|                10|              14.0|                10|                1.0|\n",
            "+-------+------------------+------------------+------------------+------------------+-------------------+\n",
            "\n"
          ]
        }
      ]
    },
    {
      "cell_type": "code",
      "metadata": {
        "colab": {
          "base_uri": "https://localhost:8080/"
        },
        "id": "0j2Pf4-N3JuQ",
        "outputId": "ffc42324-f345-47cd-f46a-d1b243ff85b0"
      },
      "source": [
        "df.columns"
      ],
      "execution_count": 44,
      "outputs": [
        {
          "output_type": "execute_result",
          "data": {
            "text/plain": [
              "['A', 'B', 'C', 'D', 'Spoiled']"
            ]
          },
          "metadata": {},
          "execution_count": 44
        }
      ]
    },
    {
      "cell_type": "code",
      "metadata": {
        "id": "ohF5UmsY09aT"
      },
      "source": [
        "#We do not need to separate the data in train and test, since we want to know which one is damaging them"
      ],
      "execution_count": 53,
      "outputs": []
    },
    {
      "cell_type": "code",
      "metadata": {
        "id": "v7kADPtuxdMQ"
      },
      "source": [
        "from pyspark.ml.feature import VectorAssembler #creating the features"
      ],
      "execution_count": 52,
      "outputs": []
    },
    {
      "cell_type": "code",
      "metadata": {
        "id": "6VKX_hzRxfoZ"
      },
      "source": [
        "assembler = VectorAssembler(\n",
        "    inputCols=['A', 'B', 'C', 'D'],\n",
        "    outputCol='features')"
      ],
      "execution_count": 21,
      "outputs": []
    },
    {
      "cell_type": "code",
      "metadata": {
        "id": "zZltlxYn0Xe2"
      },
      "source": [
        "newdf = assembler.transform(df).select('features', 'Spoiled')"
      ],
      "execution_count": 22,
      "outputs": []
    },
    {
      "cell_type": "code",
      "metadata": {
        "colab": {
          "base_uri": "https://localhost:8080/"
        },
        "id": "_wkLIybZ0euX",
        "outputId": "cd6b00be-3353-4cc4-fe54-e7886a482046"
      },
      "source": [
        "newdf.printSchema()"
      ],
      "execution_count": 23,
      "outputs": [
        {
          "output_type": "stream",
          "name": "stdout",
          "text": [
            "root\n",
            " |-- features: vector (nullable = true)\n",
            " |-- Spoiled: double (nullable = true)\n",
            "\n"
          ]
        }
      ]
    },
    {
      "cell_type": "code",
      "metadata": {
        "colab": {
          "base_uri": "https://localhost:8080/"
        },
        "id": "DC-K0NCj0kKi",
        "outputId": "a59083e8-27b2-4b05-818e-760674234aa8"
      },
      "source": [
        "newdf.filter(newdf['Spoiled'] == 1).count()"
      ],
      "execution_count": 24,
      "outputs": [
        {
          "output_type": "execute_result",
          "data": {
            "text/plain": [
              "140"
            ]
          },
          "metadata": {},
          "execution_count": 24
        }
      ]
    },
    {
      "cell_type": "code",
      "metadata": {
        "colab": {
          "base_uri": "https://localhost:8080/"
        },
        "id": "2rVK4AZ_025X",
        "outputId": "2de014b7-99e1-48aa-c935-b313235c30f2"
      },
      "source": [
        "newdf.filter(newdf['Spoiled'] == 0).count()"
      ],
      "execution_count": 55,
      "outputs": [
        {
          "output_type": "execute_result",
          "data": {
            "text/plain": [
              "350"
            ]
          },
          "metadata": {},
          "execution_count": 55
        }
      ]
    },
    {
      "cell_type": "code",
      "metadata": {
        "id": "Yh-xOOPc1T9U"
      },
      "source": [
        "from pyspark.ml.classification import (RandomForestClassifier, GBTClassifier,\n",
        "                                       DecisionTreeClassifier)"
      ],
      "execution_count": 27,
      "outputs": []
    },
    {
      "cell_type": "code",
      "metadata": {
        "id": "7k7iLD1t1Zhl"
      },
      "source": [
        "dtc = DecisionTreeClassifier(labelCol = 'Spoiled')\n",
        "rfc = RandomForestClassifier(numTrees = 100, labelCol = 'Spoiled')\n",
        "gbt = GBTClassifier(labelCol = 'Spoiled')"
      ],
      "execution_count": 28,
      "outputs": []
    },
    {
      "cell_type": "code",
      "metadata": {
        "id": "4eIt4PY99npA"
      },
      "source": [
        "dtc_model = dtc.fit(newdf)\n",
        "rfc_model = rfc.fit(newdf)\n",
        "gbt_model = gbt.fit(newdf)"
      ],
      "execution_count": 29,
      "outputs": []
    },
    {
      "cell_type": "code",
      "metadata": {
        "id": "Ldbt4Uzx_gnJ"
      },
      "source": [
        "#in all cases we see that the C has the most important roll in the spoilage ↓"
      ],
      "execution_count": 56,
      "outputs": []
    },
    {
      "cell_type": "code",
      "metadata": {
        "colab": {
          "base_uri": "https://localhost:8080/"
        },
        "id": "WAtzeUJL-XI9",
        "outputId": "8bc06e90-cee3-4b55-d0fc-15a0f0463fa3"
      },
      "source": [
        "dtc_model.featureImportances"
      ],
      "execution_count": 30,
      "outputs": [
        {
          "output_type": "execute_result",
          "data": {
            "text/plain": [
              "SparseVector(4, {1: 0.0019, 2: 0.9832, 3: 0.0149})"
            ]
          },
          "metadata": {},
          "execution_count": 30
        }
      ]
    },
    {
      "cell_type": "code",
      "metadata": {
        "colab": {
          "base_uri": "https://localhost:8080/"
        },
        "id": "ymzXJY4C_U0r",
        "outputId": "077e6226-02f4-46b6-a141-0b6dc41f51ee"
      },
      "source": [
        "rfc_model.featureImportances"
      ],
      "execution_count": 31,
      "outputs": [
        {
          "output_type": "execute_result",
          "data": {
            "text/plain": [
              "SparseVector(4, {0: 0.019, 1: 0.0213, 2: 0.9381, 3: 0.0216})"
            ]
          },
          "metadata": {},
          "execution_count": 31
        }
      ]
    },
    {
      "cell_type": "code",
      "metadata": {
        "colab": {
          "base_uri": "https://localhost:8080/"
        },
        "id": "O5WCQ2Bm_Vxb",
        "outputId": "8804904f-451f-48ab-afde-2a44ecb2850f"
      },
      "source": [
        "gbt_model.featureImportances"
      ],
      "execution_count": 32,
      "outputs": [
        {
          "output_type": "execute_result",
          "data": {
            "text/plain": [
              "SparseVector(4, {0: 0.0296, 1: 0.0383, 2: 0.8286, 3: 0.1034})"
            ]
          },
          "metadata": {},
          "execution_count": 32
        }
      ]
    },
    {
      "cell_type": "code",
      "metadata": {
        "id": "ERqaM9-P_oOD"
      },
      "source": [
        "spoiled_df = df.filter(df['Spoiled'] == 1).select('C', 'Spoiled')"
      ],
      "execution_count": 34,
      "outputs": []
    },
    {
      "cell_type": "code",
      "metadata": {
        "id": "Ca5W-A-2_uwX"
      },
      "source": [
        "nonspoiled_df = df.filter(df['Spoiled'] == 0).select('C', 'Spoiled')"
      ],
      "execution_count": 35,
      "outputs": []
    },
    {
      "cell_type": "code",
      "metadata": {
        "colab": {
          "base_uri": "https://localhost:8080/"
        },
        "id": "qDrkwuz_ABhs",
        "outputId": "6827eabe-97bc-42d5-d01d-1227be91bc3b"
      },
      "source": [
        "spoiled_df.describe().show()"
      ],
      "execution_count": 36,
      "outputs": [
        {
          "output_type": "stream",
          "name": "stdout",
          "text": [
            "+-------+------------------+-------+\n",
            "|summary|                 C|Spoiled|\n",
            "+-------+------------------+-------+\n",
            "|  count|               140|    140|\n",
            "|   mean|11.914285714285715|    1.0|\n",
            "| stddev|0.9706907300060253|    0.0|\n",
            "|    min|               9.0|    1.0|\n",
            "|    max|              14.0|    1.0|\n",
            "+-------+------------------+-------+\n",
            "\n"
          ]
        }
      ]
    },
    {
      "cell_type": "code",
      "metadata": {
        "colab": {
          "base_uri": "https://localhost:8080/"
        },
        "id": "1i6QvCdDAHd_",
        "outputId": "9df55870-e639-423c-a54e-ff654cb4723f"
      },
      "source": [
        "nonspoiled_df.describe().show()"
      ],
      "execution_count": 37,
      "outputs": [
        {
          "output_type": "stream",
          "name": "stdout",
          "text": [
            "+-------+-----------------+-------+\n",
            "|summary|                C|Spoiled|\n",
            "+-------+-----------------+-------+\n",
            "|  count|              350|    350|\n",
            "|   mean| 8.01142857142857|    0.0|\n",
            "| stddev|1.086455140730764|    0.0|\n",
            "|    min|              5.0|    0.0|\n",
            "|    max|             11.0|    0.0|\n",
            "+-------+-----------------+-------+\n",
            "\n"
          ]
        }
      ]
    },
    {
      "cell_type": "code",
      "metadata": {
        "id": "fjJnc6z8AOhr"
      },
      "source": [
        "#the average of the spoiled is almost 4 units higher than that of the non-spoiled (11.91 vs 8.01)"
      ],
      "execution_count": null,
      "outputs": []
    },
    {
      "cell_type": "code",
      "metadata": {
        "id": "BQ08RPNz8utA"
      },
      "source": [
        "#TO CONCLUDE -> we should reduce this chemical and keep its maximum amount at 9, which is the minimum in which there have been cases of spoiled"
      ],
      "execution_count": null,
      "outputs": []
    }
  ]
}