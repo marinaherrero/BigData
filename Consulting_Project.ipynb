{
  "nbformat": 4,
  "nbformat_minor": 0,
  "metadata": {
    "colab": {
      "name": "Consulting_Project.ipynb",
      "provenance": [],
      "toc_visible": true
    },
    "kernelspec": {
      "name": "python3",
      "display_name": "Python 3"
    },
    "language_info": {
      "name": "python"
    }
  },
  "cells": [
    {
      "cell_type": "markdown",
      "metadata": {
        "id": "SCSDPIHpReea"
      },
      "source": [
        "Main objective --> evaluate if this hacking was made by 2 or 3 hackers.\n",
        "\n",
        "Steps: \n",
        "1-cluster the important information collected by the affected bussines (except the location because it is not useful in this case). \n",
        "\n",
        "2- group the information --> first in two clusters \n",
        "                         --> second in three clusters\n",
        "\n",
        "3- measure de Shillouette parameter  --> evaluate accuracy\n",
        "                                  a) 2 clusters more accurate --> answer \n",
        "                                  b) 3 clusters more acccurate --> answer"
      ]
    },
    {
      "cell_type": "code",
      "metadata": {
        "id": "WB1zWN9k_HuY"
      },
      "source": [
        "!apt-get install openjdk-8-jdk-headless -qq > /dev/null\n",
        "!wget -q https://mirrors.sonic.net/apache/spark/spark-3.1.2/spark-3.1.2-bin-hadoop3.2.tgz\n",
        "!tar xzf spark-3.1.2-bin-hadoop3.2.tgz\n",
        "!pip install -q findspark\n",
        "\n",
        "\n",
        "import os\n",
        "os.environ[\"JAVA_HOME\"] = \"/usr/lib/jvm/java-8-openjdk-amd64\"\n",
        "os.environ[\"SPARK_HOME\"] = \"/content/spark-3.1.2-bin-hadoop3.2\"\n",
        "\n",
        "\n",
        "import findspark\n",
        "findspark.init()\n",
        "from pyspark.sql import SparkSession\n",
        "spark = SparkSession.builder.master(\"local[*]\").getOrCreate()\n"
      ],
      "execution_count": null,
      "outputs": []
    },
    {
      "cell_type": "code",
      "metadata": {
        "id": "xbCUYezQ_TOy"
      },
      "source": [
        "df = spark.read.format('csv').options(inferSchema=True, header=True).load('/content/drive/MyDrive/hack_data.csv')"
      ],
      "execution_count": null,
      "outputs": []
    },
    {
      "cell_type": "code",
      "metadata": {
        "colab": {
          "base_uri": "https://localhost:8080/"
        },
        "id": "GdRgXXCAKxNX",
        "outputId": "90c9e411-f1e2-44a7-9e43-67885307acc1"
      },
      "source": [
        "df.head()"
      ],
      "execution_count": null,
      "outputs": [
        {
          "output_type": "execute_result",
          "data": {
            "text/plain": [
              "Row(Session_Connection_Time=8.0, Bytes Transferred=391.09, Kali_Trace_Used=1, Servers_Corrupted=2.96, Pages_Corrupted=7.0, Location='Slovenia', WPM_Typing_Speed=72.37)"
            ]
          },
          "metadata": {},
          "execution_count": 3
        }
      ]
    },
    {
      "cell_type": "code",
      "metadata": {
        "colab": {
          "base_uri": "https://localhost:8080/"
        },
        "id": "rRUwFh6sN5Hs",
        "outputId": "0885d40a-7b05-4e91-ae34-a6c34e89352a"
      },
      "source": [
        "df.printSchema()"
      ],
      "execution_count": null,
      "outputs": [
        {
          "output_type": "stream",
          "name": "stdout",
          "text": [
            "root\n",
            " |-- Session_Connection_Time: double (nullable = true)\n",
            " |-- Bytes Transferred: double (nullable = true)\n",
            " |-- Kali_Trace_Used: integer (nullable = true)\n",
            " |-- Servers_Corrupted: double (nullable = true)\n",
            " |-- Pages_Corrupted: double (nullable = true)\n",
            " |-- Location: string (nullable = true)\n",
            " |-- WPM_Typing_Speed: double (nullable = true)\n",
            "\n"
          ]
        }
      ]
    },
    {
      "cell_type": "code",
      "metadata": {
        "colab": {
          "base_uri": "https://localhost:8080/"
        },
        "id": "vDlT9kaCK6pc",
        "outputId": "9f348a5e-b58b-4e7f-a95a-fc2c2b7bb3d7"
      },
      "source": [
        "df.describe().show()\n"
      ],
      "execution_count": null,
      "outputs": [
        {
          "output_type": "stream",
          "name": "stdout",
          "text": [
            "+-------+-----------------------+------------------+------------------+-----------------+------------------+-----------+------------------+\n",
            "|summary|Session_Connection_Time| Bytes Transferred|   Kali_Trace_Used|Servers_Corrupted|   Pages_Corrupted|   Location|  WPM_Typing_Speed|\n",
            "+-------+-----------------------+------------------+------------------+-----------------+------------------+-----------+------------------+\n",
            "|  count|                    334|               334|               334|              334|               334|        334|               334|\n",
            "|   mean|     30.008982035928145| 607.2452694610777|0.5119760479041916|5.258502994011977|10.838323353293413|       null|57.342395209580864|\n",
            "| stddev|     14.088200614636158|286.33593163576757|0.5006065264451406| 2.30190693339697|  3.06352633036022|       null| 13.41106336843464|\n",
            "|    min|                    1.0|              10.0|                 0|              1.0|               6.0|Afghanistan|              40.0|\n",
            "|    max|                   60.0|            1330.5|                 1|             10.0|              15.0|   Zimbabwe|              75.0|\n",
            "+-------+-----------------------+------------------+------------------+-----------------+------------------+-----------+------------------+\n",
            "\n"
          ]
        }
      ]
    },
    {
      "cell_type": "code",
      "metadata": {
        "colab": {
          "base_uri": "https://localhost:8080/"
        },
        "id": "ckIQo_rRLXZ5",
        "outputId": "c0723d39-289c-4df0-8da7-eca34f93ce22"
      },
      "source": [
        "df.columns\n"
      ],
      "execution_count": null,
      "outputs": [
        {
          "output_type": "execute_result",
          "data": {
            "text/plain": [
              "['Session_Connection_Time',\n",
              " 'Bytes Transferred',\n",
              " 'Kali_Trace_Used',\n",
              " 'Servers_Corrupted',\n",
              " 'Pages_Corrupted',\n",
              " 'Location',\n",
              " 'WPM_Typing_Speed']"
            ]
          },
          "metadata": {},
          "execution_count": 6
        }
      ]
    },
    {
      "cell_type": "code",
      "metadata": {
        "id": "gLss8xpqLZKF"
      },
      "source": [
        "from pyspark.ml.linalg import Vectors\n",
        "from pyspark.ml.feature import VectorAssembler\n"
      ],
      "execution_count": null,
      "outputs": []
    },
    {
      "cell_type": "code",
      "metadata": {
        "id": "PEoJJ03_PZxp"
      },
      "source": [
        "feat_cols = ['Session_Connection_Time', 'Bytes Transferred', 'Kali_Trace_Used',\n",
        "             'Servers_Corrupted', 'Pages_Corrupted','WPM_Typing_Speed']"
      ],
      "execution_count": null,
      "outputs": []
    },
    {
      "cell_type": "code",
      "metadata": {
        "colab": {
          "base_uri": "https://localhost:8080/"
        },
        "id": "ox1xL_WPPau6",
        "outputId": "468bfb6a-bc22-4e3b-f463-db1afd68c6a6"
      },
      "source": [
        "vec_assembler = VectorAssembler(inputCols = feat_cols, outputCol='features')\n",
        "df"
      ],
      "execution_count": null,
      "outputs": [
        {
          "output_type": "execute_result",
          "data": {
            "text/plain": [
              "DataFrame[Session_Connection_Time: double, Bytes Transferred: double, Kali_Trace_Used: int, Servers_Corrupted: double, Pages_Corrupted: double, Location: string, WPM_Typing_Speed: double]"
            ]
          },
          "metadata": {},
          "execution_count": 9
        }
      ]
    },
    {
      "cell_type": "code",
      "metadata": {
        "colab": {
          "base_uri": "https://localhost:8080/"
        },
        "id": "bfjE9wnJRS2E",
        "outputId": "088a270a-6f24-4b7b-e80b-1ca05fe300a9"
      },
      "source": [
        "final_data = vec_assembler.transform(df)\n",
        "final_data.select(\"features\").show(truncate=False)"
      ],
      "execution_count": null,
      "outputs": [
        {
          "output_type": "stream",
          "name": "stdout",
          "text": [
            "+--------------------------------+\n",
            "|features                        |\n",
            "+--------------------------------+\n",
            "|[8.0,391.09,1.0,2.96,7.0,72.37] |\n",
            "|[20.0,720.99,0.0,3.04,9.0,69.08]|\n",
            "|[31.0,356.32,1.0,3.71,8.0,70.58]|\n",
            "|[2.0,228.08,1.0,2.48,8.0,70.8]  |\n",
            "|[20.0,408.5,0.0,3.57,8.0,71.28] |\n",
            "|[1.0,390.69,1.0,2.79,9.0,71.57] |\n",
            "|[18.0,342.97,1.0,5.1,7.0,72.32] |\n",
            "|[22.0,101.61,1.0,3.03,7.0,72.03]|\n",
            "|[15.0,275.53,1.0,3.53,8.0,70.17]|\n",
            "|[12.0,424.83,1.0,2.53,8.0,69.99]|\n",
            "|[15.0,249.09,1.0,3.39,9.0,70.77]|\n",
            "|[32.0,242.48,0.0,4.24,8.0,67.93]|\n",
            "|[23.0,514.54,0.0,3.18,8.0,68.56]|\n",
            "|[9.0,284.77,0.0,3.12,9.0,70.82] |\n",
            "|[27.0,779.25,1.0,2.37,8.0,72.73]|\n",
            "|[12.0,307.31,1.0,3.22,7.0,67.95]|\n",
            "|[21.0,355.94,1.0,2.0,7.0,72.0]  |\n",
            "|[10.0,372.65,0.0,3.33,7.0,69.19]|\n",
            "|[20.0,347.23,1.0,2.33,7.0,70.41]|\n",
            "|[22.0,456.57,0.0,1.52,8.0,69.35]|\n",
            "+--------------------------------+\n",
            "only showing top 20 rows\n",
            "\n"
          ]
        }
      ]
    },
    {
      "cell_type": "code",
      "metadata": {
        "id": "DGzBRIHRTCeh"
      },
      "source": [
        "from pyspark.ml.clustering import KMeans\n",
        "kmeans = KMeans(k=2, seed=1)\n",
        "model = kmeans.fit(final_data)"
      ],
      "execution_count": null,
      "outputs": []
    },
    {
      "cell_type": "code",
      "metadata": {
        "colab": {
          "base_uri": "https://localhost:8080/"
        },
        "id": "bicZCeDHTMSb",
        "outputId": "325376a2-57c3-457d-dbb8-1b7cfc498193"
      },
      "source": [
        "results = model.transform(final_data)\n",
        "results.show()"
      ],
      "execution_count": null,
      "outputs": [
        {
          "output_type": "stream",
          "name": "stdout",
          "text": [
            "+-----------------------+-----------------+---------------+-----------------+---------------+--------------------+----------------+--------------------+----------+\n",
            "|Session_Connection_Time|Bytes Transferred|Kali_Trace_Used|Servers_Corrupted|Pages_Corrupted|            Location|WPM_Typing_Speed|            features|prediction|\n",
            "+-----------------------+-----------------+---------------+-----------------+---------------+--------------------+----------------+--------------------+----------+\n",
            "|                    8.0|           391.09|              1|             2.96|            7.0|            Slovenia|           72.37|[8.0,391.09,1.0,2...|         1|\n",
            "|                   20.0|           720.99|              0|             3.04|            9.0|British Virgin Is...|           69.08|[20.0,720.99,0.0,...|         0|\n",
            "|                   31.0|           356.32|              1|             3.71|            8.0|             Tokelau|           70.58|[31.0,356.32,1.0,...|         1|\n",
            "|                    2.0|           228.08|              1|             2.48|            8.0|             Bolivia|            70.8|[2.0,228.08,1.0,2...|         1|\n",
            "|                   20.0|            408.5|              0|             3.57|            8.0|                Iraq|           71.28|[20.0,408.5,0.0,3...|         1|\n",
            "|                    1.0|           390.69|              1|             2.79|            9.0|    Marshall Islands|           71.57|[1.0,390.69,1.0,2...|         1|\n",
            "|                   18.0|           342.97|              1|              5.1|            7.0|             Georgia|           72.32|[18.0,342.97,1.0,...|         1|\n",
            "|                   22.0|           101.61|              1|             3.03|            7.0|         Timor-Leste|           72.03|[22.0,101.61,1.0,...|         1|\n",
            "|                   15.0|           275.53|              1|             3.53|            8.0|Palestinian Terri...|           70.17|[15.0,275.53,1.0,...|         1|\n",
            "|                   12.0|           424.83|              1|             2.53|            8.0|          Bangladesh|           69.99|[12.0,424.83,1.0,...|         1|\n",
            "|                   15.0|           249.09|              1|             3.39|            9.0|Northern Mariana ...|           70.77|[15.0,249.09,1.0,...|         1|\n",
            "|                   32.0|           242.48|              0|             4.24|            8.0|            Zimbabwe|           67.93|[32.0,242.48,0.0,...|         1|\n",
            "|                   23.0|           514.54|              0|             3.18|            8.0|         Isle of Man|           68.56|[23.0,514.54,0.0,...|         1|\n",
            "|                    9.0|           284.77|              0|             3.12|            9.0|Sao Tome and Prin...|           70.82|[9.0,284.77,0.0,3...|         1|\n",
            "|                   27.0|           779.25|              1|             2.37|            8.0|              Greece|           72.73|[27.0,779.25,1.0,...|         0|\n",
            "|                   12.0|           307.31|              1|             3.22|            7.0|     Solomon Islands|           67.95|[12.0,307.31,1.0,...|         1|\n",
            "|                   21.0|           355.94|              1|              2.0|            7.0|       Guinea-Bissau|            72.0|[21.0,355.94,1.0,...|         1|\n",
            "|                   10.0|           372.65|              0|             3.33|            7.0|        Burkina Faso|           69.19|[10.0,372.65,0.0,...|         1|\n",
            "|                   20.0|           347.23|              1|             2.33|            7.0|            Mongolia|           70.41|[20.0,347.23,1.0,...|         1|\n",
            "|                   22.0|           456.57|              0|             1.52|            8.0|             Nigeria|           69.35|[22.0,456.57,0.0,...|         1|\n",
            "+-----------------------+-----------------+---------------+-----------------+---------------+--------------------+----------------+--------------------+----------+\n",
            "only showing top 20 rows\n",
            "\n"
          ]
        }
      ]
    },
    {
      "cell_type": "code",
      "metadata": {
        "colab": {
          "base_uri": "https://localhost:8080/"
        },
        "id": "m5JRYZ3FTWru",
        "outputId": "d733e0b7-9a9a-47d2-bcd1-01fe225dd989"
      },
      "source": [
        "from pyspark.ml.evaluation import ClusteringEvaluator\n",
        "evaluator = ClusteringEvaluator(metricName='silhouette', distanceMeasure='squaredEuclidean')\n",
        "\n",
        "silhouette = evaluator.evaluate(results)\n",
        "print(\"Silhouette = \" + str(silhouette))"
      ],
      "execution_count": null,
      "outputs": [
        {
          "output_type": "stream",
          "name": "stdout",
          "text": [
            "Silhouette = 0.8048521975748283\n"
          ]
        }
      ]
    },
    {
      "cell_type": "code",
      "metadata": {
        "id": "0s2dOi-cRlJR"
      },
      "source": [
        "from pyspark.ml.feature import StandardScaler"
      ],
      "execution_count": null,
      "outputs": []
    },
    {
      "cell_type": "code",
      "metadata": {
        "colab": {
          "base_uri": "https://localhost:8080/"
        },
        "id": "76OLKlgSTeCO",
        "outputId": "86560088-213b-46f3-fe40-1e593aeee653"
      },
      "source": [
        "model.clusterCenters()"
      ],
      "execution_count": null,
      "outputs": [
        {
          "output_type": "execute_result",
          "data": {
            "text/plain": [
              "[array([4.00060976e+01, 8.59157866e+02, 5.36585366e-01, 6.92634146e+00,\n",
              "        1.32134146e+01, 4.68612195e+01]),\n",
              " array([ 20.36470588, 364.22370588,   0.48823529,   3.64952941,\n",
              "          8.54705882,  67.45364706])]"
            ]
          },
          "metadata": {},
          "execution_count": 15
        }
      ]
    },
    {
      "cell_type": "code",
      "metadata": {
        "colab": {
          "base_uri": "https://localhost:8080/"
        },
        "id": "VPCEqUEKTg_e",
        "outputId": "f0dae5b3-fa26-48f3-af07-38cbefb74574"
      },
      "source": [
        "from pyspark.ml.clustering import KMeans\n",
        "kmeans = KMeans(k=3, seed=1)\n",
        "model = kmeans.fit(final_data)\n",
        "\n",
        "results = model.transform(final_data)\n",
        "results.show()"
      ],
      "execution_count": null,
      "outputs": [
        {
          "output_type": "stream",
          "name": "stdout",
          "text": [
            "+-----------------------+-----------------+---------------+-----------------+---------------+--------------------+----------------+--------------------+----------+\n",
            "|Session_Connection_Time|Bytes Transferred|Kali_Trace_Used|Servers_Corrupted|Pages_Corrupted|            Location|WPM_Typing_Speed|            features|prediction|\n",
            "+-----------------------+-----------------+---------------+-----------------+---------------+--------------------+----------------+--------------------+----------+\n",
            "|                    8.0|           391.09|              1|             2.96|            7.0|            Slovenia|           72.37|[8.0,391.09,1.0,2...|         1|\n",
            "|                   20.0|           720.99|              0|             3.04|            9.0|British Virgin Is...|           69.08|[20.0,720.99,0.0,...|         0|\n",
            "|                   31.0|           356.32|              1|             3.71|            8.0|             Tokelau|           70.58|[31.0,356.32,1.0,...|         1|\n",
            "|                    2.0|           228.08|              1|             2.48|            8.0|             Bolivia|            70.8|[2.0,228.08,1.0,2...|         1|\n",
            "|                   20.0|            408.5|              0|             3.57|            8.0|                Iraq|           71.28|[20.0,408.5,0.0,3...|         1|\n",
            "|                    1.0|           390.69|              1|             2.79|            9.0|    Marshall Islands|           71.57|[1.0,390.69,1.0,2...|         1|\n",
            "|                   18.0|           342.97|              1|              5.1|            7.0|             Georgia|           72.32|[18.0,342.97,1.0,...|         1|\n",
            "|                   22.0|           101.61|              1|             3.03|            7.0|         Timor-Leste|           72.03|[22.0,101.61,1.0,...|         1|\n",
            "|                   15.0|           275.53|              1|             3.53|            8.0|Palestinian Terri...|           70.17|[15.0,275.53,1.0,...|         1|\n",
            "|                   12.0|           424.83|              1|             2.53|            8.0|          Bangladesh|           69.99|[12.0,424.83,1.0,...|         1|\n",
            "|                   15.0|           249.09|              1|             3.39|            9.0|Northern Mariana ...|           70.77|[15.0,249.09,1.0,...|         1|\n",
            "|                   32.0|           242.48|              0|             4.24|            8.0|            Zimbabwe|           67.93|[32.0,242.48,0.0,...|         1|\n",
            "|                   23.0|           514.54|              0|             3.18|            8.0|         Isle of Man|           68.56|[23.0,514.54,0.0,...|         0|\n",
            "|                    9.0|           284.77|              0|             3.12|            9.0|Sao Tome and Prin...|           70.82|[9.0,284.77,0.0,3...|         1|\n",
            "|                   27.0|           779.25|              1|             2.37|            8.0|              Greece|           72.73|[27.0,779.25,1.0,...|         2|\n",
            "|                   12.0|           307.31|              1|             3.22|            7.0|     Solomon Islands|           67.95|[12.0,307.31,1.0,...|         1|\n",
            "|                   21.0|           355.94|              1|              2.0|            7.0|       Guinea-Bissau|            72.0|[21.0,355.94,1.0,...|         1|\n",
            "|                   10.0|           372.65|              0|             3.33|            7.0|        Burkina Faso|           69.19|[10.0,372.65,0.0,...|         1|\n",
            "|                   20.0|           347.23|              1|             2.33|            7.0|            Mongolia|           70.41|[20.0,347.23,1.0,...|         1|\n",
            "|                   22.0|           456.57|              0|             1.52|            8.0|             Nigeria|           69.35|[22.0,456.57,0.0,...|         0|\n",
            "+-----------------------+-----------------+---------------+-----------------+---------------+--------------------+----------------+--------------------+----------+\n",
            "only showing top 20 rows\n",
            "\n"
          ]
        }
      ]
    },
    {
      "cell_type": "code",
      "metadata": {
        "colab": {
          "base_uri": "https://localhost:8080/"
        },
        "id": "UJvTxvRpTqFp",
        "outputId": "fe8efa8e-de54-4536-f42a-807b977cae1e"
      },
      "source": [
        "from pyspark.ml.evaluation import ClusteringEvaluator\n",
        "evaluator = ClusteringEvaluator(metricName='silhouette', distanceMeasure='squaredEuclidean')\n",
        "\n",
        "silhouette = evaluator.evaluate(results)\n",
        "print(\"Silhouette = \" + str(silhouette))"
      ],
      "execution_count": null,
      "outputs": [
        {
          "output_type": "stream",
          "name": "stdout",
          "text": [
            "Silhouette = 0.6958546319645178\n"
          ]
        }
      ]
    },
    {
      "cell_type": "code",
      "metadata": {
        "colab": {
          "base_uri": "https://localhost:8080/"
        },
        "id": "PFydb1WdTsn_",
        "outputId": "f1c431f4-c942-4d34-c651-359635318b1a"
      },
      "source": [
        "model.clusterCenters()"
      ],
      "execution_count": null,
      "outputs": [
        {
          "output_type": "execute_result",
          "data": {
            "text/plain": [
              "[array([2.86210526e+01, 5.91309684e+02, 5.47368421e-01, 5.12989474e+00,\n",
              "        1.04315789e+01, 5.86424211e+01]),\n",
              " array([ 18.27192982, 286.43087719,   0.45614035,   3.16122807,\n",
              "          8.01754386,  70.10263158]),\n",
              " array([4.1768000e+01, 9.1193904e+02, 5.3600000e-01, 7.2689600e+00,\n",
              "        1.3720000e+01, 4.4717040e+01])]"
            ]
          },
          "metadata": {},
          "execution_count": 19
        }
      ]
    },
    {
      "cell_type": "markdown",
      "metadata": {
        "id": "zOHk228JUgYA"
      },
      "source": [
        "Silhouette parameter is higher when the model is 2 clusters, so the answer is 2 hackers."
      ]
    },
    {
      "cell_type": "code",
      "metadata": {
        "id": "P4767PEoRoIo"
      },
      "source": [
        "#scaler = StandardScaler(inputCol=\"features\", outputCol=\"scaledFeatures\", withStd=True, withMean=False)\n"
      ],
      "execution_count": null,
      "outputs": []
    },
    {
      "cell_type": "code",
      "metadata": {
        "id": "BDpRG2mYRsGn"
      },
      "source": [
        "#StandardScaler\n",
        "#scalerModel = scaler.fit(final_data)"
      ],
      "execution_count": null,
      "outputs": []
    },
    {
      "cell_type": "code",
      "metadata": {
        "id": "r0yvFQ2KR7ux"
      },
      "source": [
        "# Normalize \n",
        "#cluster_final_data = scalerModel.transform(final_data)\n"
      ],
      "execution_count": null,
      "outputs": []
    },
    {
      "cell_type": "code",
      "metadata": {
        "id": "bd1jyw7tR_Vy"
      },
      "source": [
        "#kmeans3 = KMeans(featuresCol='scaledFeatures',k=3)\n",
        "#kmeans2 = KMeans(featuresCol='scaledFeatures',k=2)"
      ],
      "execution_count": null,
      "outputs": []
    },
    {
      "cell_type": "code",
      "metadata": {
        "id": "leKXhAXSSDHW"
      },
      "source": [
        "#model_k3 = kmeans3.fit(cluster_final_data)\n",
        "#model_k2 = kmeans2.fit(cluster_final_data)"
      ],
      "execution_count": null,
      "outputs": []
    },
    {
      "cell_type": "code",
      "metadata": {
        "id": "ctynFNtISN08",
        "colab": {
          "base_uri": "https://localhost:8080/"
        },
        "outputId": "7738544f-259d-4e19-8844-8404f70fe5ad"
      },
      "source": [
        "#model_k3.transform(cluster_final_data).groupBy('prediction').count().show()"
      ],
      "execution_count": null,
      "outputs": [
        {
          "output_type": "stream",
          "name": "stdout",
          "text": [
            "+----------+-----+\n",
            "|prediction|count|\n",
            "+----------+-----+\n",
            "|         1|  167|\n",
            "|         2|   88|\n",
            "|         0|   79|\n",
            "+----------+-----+\n",
            "\n"
          ]
        }
      ]
    },
    {
      "cell_type": "code",
      "metadata": {
        "id": "m01yYablSP1R",
        "colab": {
          "base_uri": "https://localhost:8080/"
        },
        "outputId": "2ed8316c-90cd-48de-e3fa-3b89aba72a24"
      },
      "source": [
        "#model_k2.transform(cluster_final_data).groupBy('prediction').count().show()\n"
      ],
      "execution_count": null,
      "outputs": [
        {
          "output_type": "stream",
          "name": "stdout",
          "text": [
            "+----------+-----+\n",
            "|prediction|count|\n",
            "+----------+-----+\n",
            "|         1|  167|\n",
            "|         0|  167|\n",
            "+----------+-----+\n",
            "\n"
          ]
        }
      ]
    }
  ]
}