{
  "nbformat": 4,
  "nbformat_minor": 0,
  "metadata": {
    "colab": {
      "name": "Assignment 3.ipynb",
      "provenance": []
    },
    "kernelspec": {
      "name": "python3",
      "display_name": "Python 3"
    },
    "language_info": {
      "name": "python"
    }
  },
  "cells": [
    {
      "cell_type": "code",
      "metadata": {
        "id": "qyWjqitA2ie8"
      },
      "source": [
        "!apt-get install openjdk-8-jdk-headless -qq > /dev/null\n",
        "!wget -q https://mirrors.sonic.net/apache/spark/spark-3.1.2/spark-3.1.2-bin-hadoop3.2.tgz\n",
        "!tar xzf spark-3.1.2-bin-hadoop3.2.tgz\n",
        "!pip install -q findspark\n",
        "\n",
        "\n",
        "import os\n",
        "os.environ[\"JAVA_HOME\"] = \"/usr/lib/jvm/java-8-openjdk-amd64\"\n",
        "os.environ[\"SPARK_HOME\"] = \"/content/spark-3.1.2-bin-hadoop3.2\"\n",
        "\n",
        "\n",
        "import findspark\n",
        "findspark.init()\n",
        "from pyspark.sql import SparkSession\n",
        "spark = SparkSession.builder.master(\"local[*]\").getOrCreate()"
      ],
      "execution_count": 5,
      "outputs": []
    },
    {
      "cell_type": "code",
      "metadata": {
        "id": "VS1VE3r4-JLW"
      },
      "source": [
        "data = spark.read.csv('/customer_churn.csv',inferSchema=True, header=True)"
      ],
      "execution_count": 6,
      "outputs": []
    },
    {
      "cell_type": "code",
      "metadata": {
        "colab": {
          "base_uri": "https://localhost:8080/"
        },
        "id": "9z-KNiCeD55a",
        "outputId": "366d89d2-a204-4ff4-8085-34e24cf03006"
      },
      "source": [
        "data.printSchema()\n"
      ],
      "execution_count": 7,
      "outputs": [
        {
          "output_type": "stream",
          "name": "stdout",
          "text": [
            "root\n",
            " |-- Names: string (nullable = true)\n",
            " |-- Age: double (nullable = true)\n",
            " |-- Total_Purchase: double (nullable = true)\n",
            " |-- Account_Manager: integer (nullable = true)\n",
            " |-- Years: double (nullable = true)\n",
            " |-- Num_Sites: double (nullable = true)\n",
            " |-- Onboard_date: string (nullable = true)\n",
            " |-- Location: string (nullable = true)\n",
            " |-- Company: string (nullable = true)\n",
            " |-- Churn: integer (nullable = true)\n",
            "\n"
          ]
        }
      ]
    },
    {
      "cell_type": "code",
      "metadata": {
        "colab": {
          "base_uri": "https://localhost:8080/",
          "height": 355
        },
        "id": "wYVqunY2EkAQ",
        "outputId": "6df50806-df5a-419b-dadb-4ac3e9b5c31e"
      },
      "source": [
        "data.describe().toPandas()"
      ],
      "execution_count": 8,
      "outputs": [
        {
          "output_type": "execute_result",
          "data": {
            "text/html": [
              "<div>\n",
              "<style scoped>\n",
              "    .dataframe tbody tr th:only-of-type {\n",
              "        vertical-align: middle;\n",
              "    }\n",
              "\n",
              "    .dataframe tbody tr th {\n",
              "        vertical-align: top;\n",
              "    }\n",
              "\n",
              "    .dataframe thead th {\n",
              "        text-align: right;\n",
              "    }\n",
              "</style>\n",
              "<table border=\"1\" class=\"dataframe\">\n",
              "  <thead>\n",
              "    <tr style=\"text-align: right;\">\n",
              "      <th></th>\n",
              "      <th>summary</th>\n",
              "      <th>Names</th>\n",
              "      <th>Age</th>\n",
              "      <th>Total_Purchase</th>\n",
              "      <th>Account_Manager</th>\n",
              "      <th>Years</th>\n",
              "      <th>Num_Sites</th>\n",
              "      <th>Onboard_date</th>\n",
              "      <th>Location</th>\n",
              "      <th>Company</th>\n",
              "      <th>Churn</th>\n",
              "    </tr>\n",
              "  </thead>\n",
              "  <tbody>\n",
              "    <tr>\n",
              "      <th>0</th>\n",
              "      <td>count</td>\n",
              "      <td>900</td>\n",
              "      <td>900</td>\n",
              "      <td>900</td>\n",
              "      <td>900</td>\n",
              "      <td>900</td>\n",
              "      <td>900</td>\n",
              "      <td>900</td>\n",
              "      <td>900</td>\n",
              "      <td>900</td>\n",
              "      <td>900</td>\n",
              "    </tr>\n",
              "    <tr>\n",
              "      <th>1</th>\n",
              "      <td>mean</td>\n",
              "      <td>None</td>\n",
              "      <td>41.81666666666667</td>\n",
              "      <td>10062.82403333334</td>\n",
              "      <td>0.4811111111111111</td>\n",
              "      <td>5.27315555555555</td>\n",
              "      <td>8.587777777777777</td>\n",
              "      <td>None</td>\n",
              "      <td>None</td>\n",
              "      <td>None</td>\n",
              "      <td>0.16666666666666666</td>\n",
              "    </tr>\n",
              "    <tr>\n",
              "      <th>2</th>\n",
              "      <td>stddev</td>\n",
              "      <td>None</td>\n",
              "      <td>6.127560416916251</td>\n",
              "      <td>2408.644531858096</td>\n",
              "      <td>0.4999208935073339</td>\n",
              "      <td>1.274449013194616</td>\n",
              "      <td>1.7648355920350969</td>\n",
              "      <td>None</td>\n",
              "      <td>None</td>\n",
              "      <td>None</td>\n",
              "      <td>0.3728852122772358</td>\n",
              "    </tr>\n",
              "    <tr>\n",
              "      <th>3</th>\n",
              "      <td>min</td>\n",
              "      <td>Aaron King</td>\n",
              "      <td>22.0</td>\n",
              "      <td>100.0</td>\n",
              "      <td>0</td>\n",
              "      <td>1.0</td>\n",
              "      <td>3.0</td>\n",
              "      <td>2006-01-02 04:16:13</td>\n",
              "      <td>00103 Jeffrey Crest Apt. 205 Padillaville, IA ...</td>\n",
              "      <td>Abbott-Thompson</td>\n",
              "      <td>0</td>\n",
              "    </tr>\n",
              "    <tr>\n",
              "      <th>4</th>\n",
              "      <td>max</td>\n",
              "      <td>Zachary Walsh</td>\n",
              "      <td>65.0</td>\n",
              "      <td>18026.01</td>\n",
              "      <td>1</td>\n",
              "      <td>9.15</td>\n",
              "      <td>14.0</td>\n",
              "      <td>2016-12-28 04:07:38</td>\n",
              "      <td>Unit 9800 Box 2878 DPO AA 75157</td>\n",
              "      <td>Zuniga, Clark and Shaffer</td>\n",
              "      <td>1</td>\n",
              "    </tr>\n",
              "  </tbody>\n",
              "</table>\n",
              "</div>"
            ],
            "text/plain": [
              "  summary          Names  ...                    Company                Churn\n",
              "0   count            900  ...                        900                  900\n",
              "1    mean           None  ...                       None  0.16666666666666666\n",
              "2  stddev           None  ...                       None   0.3728852122772358\n",
              "3     min     Aaron King  ...            Abbott-Thompson                    0\n",
              "4     max  Zachary Walsh  ...  Zuniga, Clark and Shaffer                    1\n",
              "\n",
              "[5 rows x 11 columns]"
            ]
          },
          "metadata": {},
          "execution_count": 8
        }
      ]
    },
    {
      "cell_type": "code",
      "metadata": {
        "id": "EtnVjK0bEnd0"
      },
      "source": [
        "from pyspark.ml.feature import VectorAssembler"
      ],
      "execution_count": 9,
      "outputs": []
    },
    {
      "cell_type": "code",
      "metadata": {
        "colab": {
          "base_uri": "https://localhost:8080/"
        },
        "id": "tHoWfKx9EoNE",
        "outputId": "16b87129-ada8-4a91-a948-c92393fde75a"
      },
      "source": [
        "data.columns"
      ],
      "execution_count": 10,
      "outputs": [
        {
          "output_type": "execute_result",
          "data": {
            "text/plain": [
              "['Names',\n",
              " 'Age',\n",
              " 'Total_Purchase',\n",
              " 'Account_Manager',\n",
              " 'Years',\n",
              " 'Num_Sites',\n",
              " 'Onboard_date',\n",
              " 'Location',\n",
              " 'Company',\n",
              " 'Churn']"
            ]
          },
          "metadata": {},
          "execution_count": 10
        }
      ]
    },
    {
      "cell_type": "code",
      "metadata": {
        "id": "VYQLxC_8Esnu"
      },
      "source": [
        "#Here we choose the columns that we think will be good for our prediction\n",
        "assembler = VectorAssembler(inputCols=['Age',\n",
        " 'Total_Purchase',\n",
        " 'Account_Manager',\n",
        " 'Years',\n",
        " 'Num_Sites'],outputCol='features')\n",
        "output = assembler.transform(data)"
      ],
      "execution_count": 11,
      "outputs": []
    },
    {
      "cell_type": "code",
      "metadata": {
        "id": "9fP_YwOtEs0k"
      },
      "source": [
        "from pyspark.ml.feature import Imputer\n",
        "imputer = Imputer(inputCols=['Churn'], outputCols=['label'], strategy='mean')\n",
        "imputer_model = imputer.fit(output)\n",
        "output = imputer_model.transform(output)"
      ],
      "execution_count": 12,
      "outputs": []
    },
    {
      "cell_type": "code",
      "metadata": {
        "colab": {
          "base_uri": "https://localhost:8080/"
        },
        "id": "S7mdBea2E6V7",
        "outputId": "94797fff-5931-4b54-e3d6-8a4b8577debb"
      },
      "source": [
        "output.show()"
      ],
      "execution_count": 13,
      "outputs": [
        {
          "output_type": "stream",
          "name": "stdout",
          "text": [
            "+-------------------+----+--------------+---------------+-----+---------+-------------------+--------------------+--------------------+-----+--------------------+-----+\n",
            "|              Names| Age|Total_Purchase|Account_Manager|Years|Num_Sites|       Onboard_date|            Location|             Company|Churn|            features|label|\n",
            "+-------------------+----+--------------+---------------+-----+---------+-------------------+--------------------+--------------------+-----+--------------------+-----+\n",
            "|   Cameron Williams|42.0|       11066.8|              0| 7.22|      8.0|2013-08-30 07:00:40|10265 Elizabeth M...|          Harvey LLC|    1|[42.0,11066.8,0.0...|    1|\n",
            "|      Kevin Mueller|41.0|      11916.22|              0|  6.5|     11.0|2013-08-13 00:38:46|6157 Frank Garden...|          Wilson PLC|    1|[41.0,11916.22,0....|    1|\n",
            "|        Eric Lozano|38.0|      12884.75|              0| 6.67|     12.0|2016-06-29 06:20:07|1331 Keith Court ...|Miller, Johnson a...|    1|[38.0,12884.75,0....|    1|\n",
            "|      Phillip White|42.0|       8010.76|              0| 6.71|     10.0|2014-04-22 12:43:12|13120 Daniel Moun...|           Smith Inc|    1|[42.0,8010.76,0.0...|    1|\n",
            "|     Cynthia Norton|37.0|       9191.58|              0| 5.56|      9.0|2016-01-19 15:31:15|765 Tricia Row Ka...|          Love-Jones|    1|[37.0,9191.58,0.0...|    1|\n",
            "|   Jessica Williams|48.0|      10356.02|              0| 5.12|      8.0|2009-03-03 23:13:37|6187 Olson Mounta...|        Kelly-Warren|    1|[48.0,10356.02,0....|    1|\n",
            "|        Eric Butler|44.0|      11331.58|              1| 5.23|     11.0|2016-12-05 03:35:43|4846 Savannah Roa...|   Reynolds-Sheppard|    1|[44.0,11331.58,1....|    1|\n",
            "|      Zachary Walsh|32.0|       9885.12|              1| 6.92|      9.0|2006-03-09 14:50:20|25271 Roy Express...|          Singh-Cole|    1|[32.0,9885.12,1.0...|    1|\n",
            "|        Ashlee Carr|43.0|       14062.6|              1| 5.46|     11.0|2011-09-29 05:47:23|3725 Caroline Str...|           Lopez PLC|    1|[43.0,14062.6,1.0...|    1|\n",
            "|     Jennifer Lynch|40.0|       8066.94|              1| 7.11|     11.0|2006-03-28 15:42:45|363 Sandra Lodge ...|       Reed-Martinez|    1|[40.0,8066.94,1.0...|    1|\n",
            "|       Paula Harris|30.0|      11575.37|              1| 5.22|      8.0|2016-11-13 13:13:01|Unit 8120 Box 916...|Briggs, Lamb and ...|    1|[30.0,11575.37,1....|    1|\n",
            "|     Bruce Phillips|45.0|       8771.02|              1| 6.64|     11.0|2015-05-28 12:14:03|Unit 1895 Box 094...|    Figueroa-Maynard|    1|[45.0,8771.02,1.0...|    1|\n",
            "|       Craig Garner|45.0|       8988.67|              1| 4.84|     11.0|2011-02-16 08:10:47|897 Kelley Overpa...|     Abbott-Thompson|    1|[45.0,8988.67,1.0...|    1|\n",
            "|       Nicole Olson|40.0|       8283.32|              1|  5.1|     13.0|2012-11-22 05:35:03|11488 Weaver Cape...|Smith, Kim and Ma...|    1|[40.0,8283.32,1.0...|    1|\n",
            "|     Harold Griffin|41.0|       6569.87|              1|  4.3|     11.0|2015-03-28 02:13:44|1774 Peter Row Ap...|Snyder, Lee and M...|    1|[41.0,6569.87,1.0...|    1|\n",
            "|       James Wright|38.0|      10494.82|              1| 6.81|     12.0|2015-07-22 08:38:40|45408 David Path ...|      Sanders-Pierce|    1|[38.0,10494.82,1....|    1|\n",
            "|      Doris Wilkins|45.0|       8213.41|              1| 7.35|     11.0|2006-09-03 06:13:55|28216 Wright Moun...|Andrews, Adams an...|    1|[45.0,8213.41,1.0...|    1|\n",
            "|Katherine Carpenter|43.0|      11226.88|              0| 8.08|     12.0|2006-10-22 04:42:38|Unit 4948 Box 481...|Morgan, Phillips ...|    1|[43.0,11226.88,0....|    1|\n",
            "|     Lindsay Martin|53.0|       5515.09|              0| 6.85|      8.0|2015-10-07 00:27:10|69203 Crosby Divi...|      Villanueva LLC|    1|[53.0,5515.09,0.0...|    1|\n",
            "|        Kathy Curry|46.0|        8046.4|              1| 5.69|      8.0|2014-11-06 23:47:14|9569 Caldwell Cre...|Berry, Orr and Ca...|    1|[46.0,8046.4,1.0,...|    1|\n",
            "+-------------------+----+--------------+---------------+-----+---------+-------------------+--------------------+--------------------+-----+--------------------+-----+\n",
            "only showing top 20 rows\n",
            "\n"
          ]
        }
      ]
    },
    {
      "cell_type": "code",
      "metadata": {
        "id": "NYowUSfDE9L0"
      },
      "source": [
        "final_data = output.select('features','churn')"
      ],
      "execution_count": 14,
      "outputs": []
    },
    {
      "cell_type": "code",
      "metadata": {
        "id": "H6hBAJBZFH92"
      },
      "source": [
        "#split the data for training(70%) and test(30%)\n",
        "train_data,test_data = final_data.randomSplit([0.7,0.3])"
      ],
      "execution_count": 15,
      "outputs": []
    },
    {
      "cell_type": "code",
      "metadata": {
        "colab": {
          "base_uri": "https://localhost:8080/"
        },
        "id": "LFJnjI6vFQ31",
        "outputId": "c5cadbac-fbec-40cb-bb6e-b5bb1a9c6da9"
      },
      "source": [
        "final_data.describe().show()\n",
        "train_data.describe().show()\n",
        "test_data.describe().show()"
      ],
      "execution_count": 16,
      "outputs": [
        {
          "output_type": "stream",
          "name": "stdout",
          "text": [
            "+-------+-------------------+\n",
            "|summary|              churn|\n",
            "+-------+-------------------+\n",
            "|  count|                900|\n",
            "|   mean|0.16666666666666666|\n",
            "| stddev| 0.3728852122772358|\n",
            "|    min|                  0|\n",
            "|    max|                  1|\n",
            "+-------+-------------------+\n",
            "\n",
            "+-------+-------------------+\n",
            "|summary|              churn|\n",
            "+-------+-------------------+\n",
            "|  count|                634|\n",
            "|   mean|0.17350157728706625|\n",
            "| stddev| 0.3789793112070138|\n",
            "|    min|                  0|\n",
            "|    max|                  1|\n",
            "+-------+-------------------+\n",
            "\n",
            "+-------+-------------------+\n",
            "|summary|              churn|\n",
            "+-------+-------------------+\n",
            "|  count|                266|\n",
            "|   mean|0.15037593984962405|\n",
            "| stddev| 0.3581133077041032|\n",
            "|    min|                  0|\n",
            "|    max|                  1|\n",
            "+-------+-------------------+\n",
            "\n"
          ]
        }
      ]
    },
    {
      "cell_type": "code",
      "metadata": {
        "id": "DHBu5ZoqFT2X"
      },
      "source": [
        "from pyspark.ml.classification import LogisticRegression"
      ],
      "execution_count": 17,
      "outputs": []
    },
    {
      "cell_type": "code",
      "metadata": {
        "id": "67Otg7LgFW6h"
      },
      "source": [
        "lr_churn = LogisticRegression(labelCol='churn')"
      ],
      "execution_count": 18,
      "outputs": []
    },
    {
      "cell_type": "code",
      "metadata": {
        "id": "ldiVpRGlFZBx"
      },
      "source": [
        "fitted_churn_model = lr_churn.fit(train_data)"
      ],
      "execution_count": 19,
      "outputs": []
    },
    {
      "cell_type": "code",
      "metadata": {
        "id": "kLCy4ZQiFbon"
      },
      "source": [
        "training_sum = fitted_churn_model.summary"
      ],
      "execution_count": 20,
      "outputs": []
    },
    {
      "cell_type": "code",
      "metadata": {
        "colab": {
          "base_uri": "https://localhost:8080/"
        },
        "id": "hRCaKa33FdvI",
        "outputId": "372534e1-c4e5-43a3-b913-4f9aa5467e3b"
      },
      "source": [
        "training_sum.predictions.describe().show()"
      ],
      "execution_count": 21,
      "outputs": [
        {
          "output_type": "stream",
          "name": "stdout",
          "text": [
            "+-------+-------------------+------------------+\n",
            "|summary|              churn|        prediction|\n",
            "+-------+-------------------+------------------+\n",
            "|  count|                634|               634|\n",
            "|   mean|0.17350157728706625|0.1309148264984227|\n",
            "| stddev| 0.3789793112070138| 0.337573511742821|\n",
            "|    min|                0.0|               0.0|\n",
            "|    max|                1.0|               1.0|\n",
            "+-------+-------------------+------------------+\n",
            "\n"
          ]
        }
      ]
    },
    {
      "cell_type": "code",
      "metadata": {
        "id": "85u-VLSwFhEe"
      },
      "source": [
        "#importing evaluators from library to check the stadistics of our model --> how well it is performing and its reliability\n",
        "from pyspark.ml.evaluation import BinaryClassificationEvaluator"
      ],
      "execution_count": 22,
      "outputs": []
    },
    {
      "cell_type": "code",
      "metadata": {
        "id": "Yxo2jl9vFsk5"
      },
      "source": [
        "data_predicted = fitted_churn_model.evaluate(test_data)"
      ],
      "execution_count": 23,
      "outputs": []
    },
    {
      "cell_type": "code",
      "metadata": {
        "colab": {
          "base_uri": "https://localhost:8080/"
        },
        "id": "4xpRCd73FxJD",
        "outputId": "0ca59f0d-e3d7-4753-e0ef-9b163700f271"
      },
      "source": [
        "data_predicted.predictions.show()"
      ],
      "execution_count": 24,
      "outputs": [
        {
          "output_type": "stream",
          "name": "stdout",
          "text": [
            "+--------------------+-----+--------------------+--------------------+----------+\n",
            "|            features|churn|       rawPrediction|         probability|prediction|\n",
            "+--------------------+-----+--------------------+--------------------+----------+\n",
            "|[22.0,11254.38,1....|    0|[4.74634237804022...|[0.99139135451688...|       0.0|\n",
            "|[28.0,11245.38,0....|    0|[3.62601823165728...|[0.97406837491370...|       0.0|\n",
            "|[29.0,5900.78,1.0...|    0|[4.47303463097700...|[0.98871614829884...|       0.0|\n",
            "|[29.0,9378.24,0.0...|    0|[4.72281387801987...|[0.99118821034906...|       0.0|\n",
            "|[29.0,10203.18,1....|    0|[3.90577075830038...|[0.98027160588186...|       0.0|\n",
            "|[29.0,13240.01,1....|    0|[6.74188646148326...|[0.99882097350303...|       0.0|\n",
            "|[29.0,13255.05,1....|    0|[4.11354707130418...|[0.98391333373758...|       0.0|\n",
            "|[30.0,6744.87,0.0...|    0|[3.57170203559144...|[0.97266048612059...|       0.0|\n",
            "|[30.0,7960.64,1.0...|    1|[3.29975238488172...|[0.96442031509593...|       0.0|\n",
            "|[30.0,10744.14,1....|    1|[1.82247190999294...|[0.86086247235076...|       0.0|\n",
            "|[32.0,7896.65,0.0...|    0|[3.46715055227626...|[0.96973851121812...|       0.0|\n",
            "|[32.0,8617.98,1.0...|    1|[1.19420563292592...|[0.76749239437156...|       0.0|\n",
            "|[32.0,9036.27,0.0...|    0|[-0.3420394526153...|[0.41531415486072...|       1.0|\n",
            "|[32.0,9885.12,1.0...|    1|[1.90341743048843...|[0.87027782261999...|       0.0|\n",
            "|[32.0,11715.72,0....|    0|[3.16995741843881...|[0.95968793725666...|       0.0|\n",
            "|[32.0,12254.75,1....|    0|[2.54540396400374...|[0.92726414143363...|       0.0|\n",
            "|[32.0,12403.6,0.0...|    0|[5.41679512192434...|[0.99557828056490...|       0.0|\n",
            "|[32.0,12547.91,0....|    0|[0.18930289611203...|[0.54718489990167...|       0.0|\n",
            "|[33.0,4711.89,0.0...|    0|[6.11974272386918...|[0.99780580343968...|       0.0|\n",
            "|[33.0,7750.54,1.0...|    0|[4.56179409356099...|[0.98966462957622...|       0.0|\n",
            "+--------------------+-----+--------------------+--------------------+----------+\n",
            "only showing top 20 rows\n",
            "\n"
          ]
        }
      ]
    },
    {
      "cell_type": "code",
      "metadata": {
        "id": "TNFbT75DF0nG"
      },
      "source": [
        "evaluator = BinaryClassificationEvaluator(rawPredictionCol='prediction', labelCol='churn')"
      ],
      "execution_count": 25,
      "outputs": []
    },
    {
      "cell_type": "code",
      "metadata": {
        "colab": {
          "base_uri": "https://localhost:8080/"
        },
        "id": "njg1sRH5F4Hm",
        "outputId": "8922885c-5078-43f7-a0bb-e59626b8a6d5"
      },
      "source": [
        "#Test Area Under Roc (auc), which is good: approximately 75%\n",
        "auc = evaluator.evaluate(data_predicted.predictions)\n",
        "auc"
      ],
      "execution_count": 27,
      "outputs": [
        {
          "output_type": "execute_result",
          "data": {
            "text/plain": [
              "0.7484513274336283"
            ]
          },
          "metadata": {},
          "execution_count": 27
        }
      ]
    },
    {
      "cell_type": "code",
      "metadata": {
        "id": "zMK8MnMJF8ms"
      },
      "source": [
        ""
      ],
      "execution_count": null,
      "outputs": []
    }
  ]
}